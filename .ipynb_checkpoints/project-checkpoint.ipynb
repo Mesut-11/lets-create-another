{
 "cells": [
  {
   "cell_type": "code",
   "execution_count": 1,
   "id": "53a05111",
   "metadata": {},
   "outputs": [
    {
     "name": "stdout",
     "output_type": "stream",
     "text": [
      "Requirement already satisfied: jovian in c:\\users\\sir itso\\anaconda3\\lib\\site-packages (0.2.47)\n",
      "Requirement already satisfied: uuid in c:\\users\\sir itso\\anaconda3\\lib\\site-packages (from jovian) (1.30)\n",
      "Requirement already satisfied: click in c:\\users\\sir itso\\anaconda3\\lib\\site-packages (from jovian) (8.0.4)\n",
      "Requirement already satisfied: requests in c:\\users\\sir itso\\anaconda3\\lib\\site-packages (from jovian) (2.28.1)\n",
      "Requirement already satisfied: pyyaml in c:\\users\\sir itso\\anaconda3\\lib\\site-packages (from jovian) (6.0)\n",
      "Requirement already satisfied: colorama in c:\\users\\sir itso\\anaconda3\\lib\\site-packages (from click->jovian) (0.4.6)\n",
      "Requirement already satisfied: idna<4,>=2.5 in c:\\users\\sir itso\\anaconda3\\lib\\site-packages (from requests->jovian) (3.4)\n",
      "Requirement already satisfied: charset-normalizer<3,>=2 in c:\\users\\sir itso\\anaconda3\\lib\\site-packages (from requests->jovian) (2.0.4)\n",
      "Requirement already satisfied: urllib3<1.27,>=1.21.1 in c:\\users\\sir itso\\anaconda3\\lib\\site-packages (from requests->jovian) (1.26.14)\n",
      "Requirement already satisfied: certifi>=2017.4.17 in c:\\users\\sir itso\\anaconda3\\lib\\site-packages (from requests->jovian) (2022.12.7)\n"
     ]
    }
   ],
   "source": [
    "!pip install jovian --upgrade"
   ]
  },
  {
   "cell_type": "code",
   "execution_count": 2,
   "id": "6fac3e60",
   "metadata": {},
   "outputs": [],
   "source": [
    "import jovian"
   ]
  },
  {
   "cell_type": "code",
   "execution_count": null,
   "id": "4cc3bd61",
   "metadata": {},
   "outputs": [
    {
     "data": {
      "application/javascript": [
       "window.require && require([\"base/js/namespace\"],function(Jupyter){Jupyter.notebook.save_checkpoint()})"
      ],
      "text/plain": [
       "<IPython.core.display.Javascript object>"
      ]
     },
     "metadata": {},
     "output_type": "display_data"
    }
   ],
   "source": [
    "jovian.commit(filename = \"project\")"
   ]
  },
  {
   "cell_type": "code",
   "execution_count": null,
   "id": "274daf08",
   "metadata": {},
   "outputs": [],
   "source": [
    "import os"
   ]
  },
  {
   "cell_type": "code",
   "execution_count": null,
   "id": "5418cf41",
   "metadata": {},
   "outputs": [],
   "source": [
    "os.getcwd()"
   ]
  },
  {
   "cell_type": "code",
   "execution_count": null,
   "id": "0b9d67da",
   "metadata": {},
   "outputs": [],
   "source": [
    "os.getcwdb()"
   ]
  },
  {
   "cell_type": "code",
   "execution_count": null,
   "id": "24cdabdc",
   "metadata": {},
   "outputs": [],
   "source": [
    "os.listdir()"
   ]
  },
  {
   "cell_type": "code",
   "execution_count": null,
   "id": "aecf12fe",
   "metadata": {},
   "outputs": [],
   "source": [
    "help(os.listdir)"
   ]
  },
  {
   "cell_type": "code",
   "execution_count": null,
   "id": "9531f14a",
   "metadata": {},
   "outputs": [],
   "source": [
    "os.listdir(path=\"C:\\\\Users\\\\Sir Itso\\\\IdeaProjects\")"
   ]
  },
  {
   "cell_type": "code",
   "execution_count": null,
   "id": "8d6dc803",
   "metadata": {},
   "outputs": [],
   "source": [
    "os.makedirs(\"./data\",exist_ok=True)"
   ]
  },
  {
   "cell_type": "code",
   "execution_count": null,
   "id": "541f68b9",
   "metadata": {},
   "outputs": [],
   "source": [
    "\"data\" in os.listdir(\".\")"
   ]
  },
  {
   "cell_type": "code",
   "execution_count": null,
   "id": "ea258b38",
   "metadata": {},
   "outputs": [],
   "source": [
    "\"climate.txt\" in os.listdir(\".\")"
   ]
  },
  {
   "cell_type": "code",
   "execution_count": null,
   "id": "fc0c017b",
   "metadata": {},
   "outputs": [],
   "source": [
    "import shutil"
   ]
  },
  {
   "cell_type": "code",
   "execution_count": null,
   "id": "3345a44b",
   "metadata": {},
   "outputs": [],
   "source": [
    "climate = \"climate.txt\""
   ]
  },
  {
   "cell_type": "code",
   "execution_count": null,
   "id": "aa7d4310",
   "metadata": {},
   "outputs": [],
   "source": [
    "shutil.move(\"climate.txt\",f\"./data/{climate}\")"
   ]
  },
  {
   "cell_type": "code",
   "execution_count": null,
   "id": "9830aab9",
   "metadata": {},
   "outputs": [],
   "source": [
    "files = open(file='./data/climate.txt',mode='r')"
   ]
  },
  {
   "cell_type": "code",
   "execution_count": null,
   "id": "6d9d7a6d",
   "metadata": {},
   "outputs": [],
   "source": [
    "print(files.read())"
   ]
  },
  {
   "cell_type": "code",
   "execution_count": null,
   "id": "bc68b0c7",
   "metadata": {},
   "outputs": [],
   "source": [
    "files.close()"
   ]
  },
  {
   "cell_type": "code",
   "execution_count": null,
   "id": "0d98fd6a",
   "metadata": {},
   "outputs": [],
   "source": [
    "with open(file = './data/climate.txt', mode = 'r') as f:\n",
    "    climates = f.readlines()\n",
    "    "
   ]
  },
  {
   "cell_type": "code",
   "execution_count": null,
   "id": "e4971cfe",
   "metadata": {},
   "outputs": [],
   "source": [
    "climates[0][:-1]"
   ]
  },
  {
   "cell_type": "code",
   "execution_count": null,
   "id": "01c39e0e",
   "metadata": {},
   "outputs": [],
   "source": [
    "def parse_headers(headers):\n",
    "    return headers.strip().split(',')"
   ]
  },
  {
   "cell_type": "code",
   "execution_count": null,
   "id": "cd1f99f4",
   "metadata": {},
   "outputs": [],
   "source": [
    "print(parse_headers(climates[0]))"
   ]
  },
  {
   "cell_type": "markdown",
   "id": "3eba4f08",
   "metadata": {},
   "source": [
    "pass_values function: take the file as argument\n",
    "loop through it "
   ]
  },
  {
   "cell_type": "code",
   "execution_count": null,
   "id": "0303d674",
   "metadata": {},
   "outputs": [],
   "source": [
    "def parse_values(complete_file):\n",
    "    values = []\n",
    "    for val in complete_file.strip().split(','):\n",
    "        values.append(val)\n",
    "    return values"
   ]
  },
  {
   "cell_type": "code",
   "execution_count": null,
   "id": "de4bf62f",
   "metadata": {},
   "outputs": [],
   "source": [
    "def retreive_floats(items):\n",
    "    val = []\n",
    "    for item in items:\n",
    "        for it in item.strip().split(\",\"):\n",
    "            val.append(float(it))\n",
    "    return val\n",
    "        \n",
    "retreive_floats(climates[1:])        "
   ]
  },
  {
   "cell_type": "code",
   "execution_count": null,
   "id": "05f10555",
   "metadata": {},
   "outputs": [],
   "source": [
    "print(parse_values(climates[1]))"
   ]
  },
  {
   "cell_type": "code",
   "execution_count": null,
   "id": "6187501b",
   "metadata": {},
   "outputs": [],
   "source": [
    "climates[1:]"
   ]
  },
  {
   "cell_type": "code",
   "execution_count": null,
   "id": "282a1420",
   "metadata": {},
   "outputs": [],
   "source": []
  }
 ],
 "metadata": {
  "kernelspec": {
   "display_name": "Python 3 (ipykernel)",
   "language": "python",
   "name": "python3"
  },
  "language_info": {
   "codemirror_mode": {
    "name": "ipython",
    "version": 3
   },
   "file_extension": ".py",
   "mimetype": "text/x-python",
   "name": "python",
   "nbconvert_exporter": "python",
   "pygments_lexer": "ipython3",
   "version": "3.10.9"
  }
 },
 "nbformat": 4,
 "nbformat_minor": 5
}
