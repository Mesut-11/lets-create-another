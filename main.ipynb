{
 "cells": [
  {
   "cell_type": "code",
   "execution_count": 30,
   "id": "2269792d",
   "metadata": {},
   "outputs": [],
   "source": [
    "#import jovian\n",
    "import math\n",
    "import numpy as np\n",
    "import time"
   ]
  },
  {
   "cell_type": "code",
   "execution_count": 35,
   "id": "793631f5",
   "metadata": {},
   "outputs": [
    {
     "name": "stderr",
     "output_type": "stream",
     "text": [
      "<magic-timeit>:1: RuntimeWarning: overflow encountered in long_scalars\n"
     ]
    },
    {
     "name": "stdout",
     "output_type": "stream",
     "text": [
      "-2014260032\n",
      "-2014260032\n",
      "-2014260032\n",
      "-2014260032\n",
      "-2014260032\n",
      "-2014260032\n",
      "-2014260032\n",
      "-2014260032\n",
      "1 s ± 34.6 ms per loop (mean ± std. dev. of 7 runs, 1 loop each)\n",
      "4.28 ms ± 166 µs per loop (mean ± std. dev. of 7 runs, 100 loops each)\n"
     ]
    }
   ],
   "source": [
    "A = np.arange(1)\n",
    "B = np.arange(10000000)\n",
    "\n",
    "%timeit print(sum(B))\n",
    "\n",
    "%timeit np.sum(B)"
   ]
  },
  {
   "cell_type": "code",
   "execution_count": 21,
   "id": "ce7d6e6f",
   "metadata": {},
   "outputs": [
    {
     "name": "stdout",
     "output_type": "stream",
     "text": [
      "2023-06-10\n"
     ]
    }
   ],
   "source": [
    "today = np.datetime64(\"today\",\"D\") - np.timedelta64(1,\"D\")\n",
    "print(today)"
   ]
  },
  {
   "cell_type": "code",
   "execution_count": 12,
   "id": "be6e90e6",
   "metadata": {},
   "outputs": [],
   "source": [
    "def checkerboard(shape):\n",
    "    return np.indices(shape).sum(axis=0) % 2"
   ]
  },
  {
   "cell_type": "code",
   "execution_count": 15,
   "id": "523e8f64",
   "metadata": {},
   "outputs": [
    {
     "name": "stdout",
     "output_type": "stream",
     "text": [
      "[[0 1 0 1 0 1]\n",
      " [1 0 1 0 1 0]\n",
      " [0 1 0 1 0 1]\n",
      " [1 0 1 0 1 0]\n",
      " [0 1 0 1 0 1]]\n"
     ]
    }
   ],
   "source": [
    "shapes = (5,6)\n",
    "print(checkerboard(shapes))"
   ]
  },
  {
   "cell_type": "code",
   "execution_count": 17,
   "id": "13d6a206",
   "metadata": {},
   "outputs": [
    {
     "ename": "AttributeError",
     "evalue": "module 'numpy' has no attribute 'FloatingPointError'",
     "output_type": "error",
     "traceback": [
      "\u001B[1;31m---------------------------------------------------------------------------\u001B[0m",
      "\u001B[1;31mAttributeError\u001B[0m                            Traceback (most recent call last)",
      "Cell \u001B[1;32mIn[17], line 7\u001B[0m\n\u001B[0;32m      5\u001B[0m warnings\u001B[38;5;241m.\u001B[39mfilterwarnings(\u001B[38;5;124m\"\u001B[39m\u001B[38;5;124mignore\u001B[39m\u001B[38;5;124m\"\u001B[39m, category\u001B[38;5;241m=\u001B[39mnp\u001B[38;5;241m.\u001B[39mVisibleDeprecationWarning)\n\u001B[0;32m      6\u001B[0m warnings\u001B[38;5;241m.\u001B[39mfilterwarnings(\u001B[38;5;124m\"\u001B[39m\u001B[38;5;124mignore\u001B[39m\u001B[38;5;124m\"\u001B[39m, category\u001B[38;5;241m=\u001B[39mnp\u001B[38;5;241m.\u001B[39mRankWarning)\n\u001B[1;32m----> 7\u001B[0m warnings\u001B[38;5;241m.\u001B[39mfilterwarnings(\u001B[38;5;124m\"\u001B[39m\u001B[38;5;124mignore\u001B[39m\u001B[38;5;124m\"\u001B[39m, category\u001B[38;5;241m=\u001B[39m\u001B[43mnp\u001B[49m\u001B[38;5;241;43m.\u001B[39;49m\u001B[43mFloatingPointError\u001B[49m)\n",
      "File \u001B[1;32m~\\anaconda3\\lib\\site-packages\\numpy\\__init__.py:311\u001B[0m, in \u001B[0;36m__getattr__\u001B[1;34m(attr)\u001B[0m\n\u001B[0;32m    308\u001B[0m     \u001B[38;5;28;01mfrom\u001B[39;00m \u001B[38;5;21;01m.\u001B[39;00m\u001B[38;5;21;01mtesting\u001B[39;00m \u001B[38;5;28;01mimport\u001B[39;00m Tester\n\u001B[0;32m    309\u001B[0m     \u001B[38;5;28;01mreturn\u001B[39;00m Tester\n\u001B[1;32m--> 311\u001B[0m \u001B[38;5;28;01mraise\u001B[39;00m \u001B[38;5;167;01mAttributeError\u001B[39;00m(\u001B[38;5;124m\"\u001B[39m\u001B[38;5;124mmodule \u001B[39m\u001B[38;5;132;01m{!r}\u001B[39;00m\u001B[38;5;124m has no attribute \u001B[39m\u001B[38;5;124m\"\u001B[39m\n\u001B[0;32m    312\u001B[0m                      \u001B[38;5;124m\"\u001B[39m\u001B[38;5;132;01m{!r}\u001B[39;00m\u001B[38;5;124m\"\u001B[39m\u001B[38;5;241m.\u001B[39mformat(\u001B[38;5;18m__name__\u001B[39m, attr))\n",
      "\u001B[1;31mAttributeError\u001B[0m: module 'numpy' has no attribute 'FloatingPointError'"
     ]
    }
   ],
   "source": [
    "import numpy as np\n",
    "import warnings\n",
    "\n",
    "# Ignore all NumPy warnings\n",
    "warnings.filterwarnings(\"ignore\", category=np.VisibleDeprecationWarning)\n",
    "warnings.filterwarnings(\"ignore\", category=np.RankWarning)\n",
    "warnings.filterwarnings(\"ignore\", category=np.FloatingPointError)\n",
    "\n",
    "# Your code goes here..."
   ]
  },
  {
   "cell_type": "code",
   "execution_count": 16,
   "id": "47657434",
   "metadata": {},
   "outputs": [
    {
     "name": "stdout",
     "output_type": "stream",
     "text": [
      "Original matrix:\n",
      "[[0.1205615  0.8373977  0.70519011 0.96975242 0.40181896]\n",
      " [0.76983354 0.93911476 0.6583122  0.11260732 0.83874142]\n",
      " [0.57959365 0.80336981 0.01507962 0.68720369 0.32925253]\n",
      " [0.61302501 0.44816094 0.14111736 0.56263345 0.38517112]\n",
      " [0.04732023 0.29637575 0.7219747  0.95235571 0.68581223]]\n",
      "\n",
      "Normalized matrix:\n",
      "[[-1.45390325  1.00234722  0.54933583  1.45586275 -0.49017017]\n",
      " [ 0.77083758  1.35088234  0.38870797 -1.48115838  1.00695151]\n",
      " [ 0.11897759  0.88575013 -1.81533859  0.48770509 -0.73882017]\n",
      " [ 0.23353068 -0.33137863 -1.38346829  0.06086321 -0.54721425]\n",
      " [-1.70486562 -0.85147298  0.60684851  1.39625267  0.48293726]]\n"
     ]
    }
   ],
   "source": [
    "import numpy as np\n",
    "\n",
    "# Create a 5x5 random matrix\n",
    "matrix = np.random.rand(5, 5)\n",
    "\n",
    "# Normalize the matrix using NumPy's normalize function\n",
    "norm_matrix = (matrix - np.mean(matrix)) / np.std(matrix)\n",
    "\n",
    "# Print the original and normalized matrices\n",
    "print(\"Original matrix:\")\n",
    "print(matrix)\n",
    "print(\"\\nNormalized matrix:\")\n",
    "print(norm_matrix)"
   ]
  },
  {
   "cell_type": "code",
   "execution_count": 11,
   "id": "a305037d",
   "metadata": {},
   "outputs": [
    {
     "name": "stdout",
     "output_type": "stream",
     "text": [
      "[[ 1  2  3  4  5  6  7  8]\n",
      " [ 9 10 11 12 13 14 15 16]\n",
      " [17 18 19 20 21 22 23 24]\n",
      " [25 26 27 28 29 30 31 32]\n",
      " [33 34 35 36 37 38 39 40]\n",
      " [41 42 43 44 45 46 47 48]\n",
      " [49 50 51 52 53 54 55 56]\n",
      " [57 58 59 60 61 62 63 64]]\n",
      "\n",
      "[[ 9 11 13 15]\n",
      " [25 27 29 31]\n",
      " [41 43 45 47]\n",
      " [57 59 61 63]]\n"
     ]
    }
   ],
   "source": [
    "checkerboard = np.arange(1,65).reshape(8,8)\n",
    "print(checkerboard)\n",
    "print()\n",
    "print(checkerboard[1::2,::2]) "
   ]
  },
  {
   "cell_type": "code",
   "execution_count": null,
   "id": "23ae11e7",
   "metadata": {},
   "outputs": [],
   "source": []
  },
  {
   "cell_type": "code",
   "execution_count": 108,
   "id": "f833ff8a",
   "metadata": {},
   "outputs": [
    {
     "name": "stdout",
     "output_type": "stream",
     "text": [
      "Help on function savetxt in module numpy:\n",
      "\n",
      "savetxt(fname, X, fmt='%.18e', delimiter=' ', newline='\\n', header='', footer='', comments='# ', encoding=None)\n",
      "    Save an array to a text file.\n",
      "    \n",
      "    Parameters\n",
      "    ----------\n",
      "    fname : filename or file handle\n",
      "        If the filename ends in ``.gz``, the file is automatically saved in\n",
      "        compressed gzip format.  `loadtxt` understands gzipped files\n",
      "        transparently.\n",
      "    X : 1D or 2D array_like\n",
      "        Data to be saved to a text file.\n",
      "    fmt : str or sequence of strs, optional\n",
      "        A single format (%10.5f), a sequence of formats, or a\n",
      "        multi-format string, e.g. 'Iteration %d -- %10.5f', in which\n",
      "        case `delimiter` is ignored. For complex `X`, the legal options\n",
      "        for `fmt` are:\n",
      "    \n",
      "        * a single specifier, `fmt='%.4e'`, resulting in numbers formatted\n",
      "          like `' (%s+%sj)' % (fmt, fmt)`\n",
      "        * a full string specifying every real and imaginary part, e.g.\n",
      "          `' %.4e %+.4ej %.4e %+.4ej %.4e %+.4ej'` for 3 columns\n",
      "        * a list of specifiers, one per column - in this case, the real\n",
      "          and imaginary part must have separate specifiers,\n",
      "          e.g. `['%.3e + %.3ej', '(%.15e%+.15ej)']` for 2 columns\n",
      "    delimiter : str, optional\n",
      "        String or character separating columns.\n",
      "    newline : str, optional\n",
      "        String or character separating lines.\n",
      "    \n",
      "        .. versionadded:: 1.5.0\n",
      "    header : str, optional\n",
      "        String that will be written at the beginning of the file.\n",
      "    \n",
      "        .. versionadded:: 1.7.0\n",
      "    footer : str, optional\n",
      "        String that will be written at the end of the file.\n",
      "    \n",
      "        .. versionadded:: 1.7.0\n",
      "    comments : str, optional\n",
      "        String that will be prepended to the ``header`` and ``footer`` strings,\n",
      "        to mark them as comments. Default: '# ',  as expected by e.g.\n",
      "        ``numpy.loadtxt``.\n",
      "    \n",
      "        .. versionadded:: 1.7.0\n",
      "    encoding : {None, str}, optional\n",
      "        Encoding used to encode the outputfile. Does not apply to output\n",
      "        streams. If the encoding is something other than 'bytes' or 'latin1'\n",
      "        you will not be able to load the file in NumPy versions < 1.14. Default\n",
      "        is 'latin1'.\n",
      "    \n",
      "        .. versionadded:: 1.14.0\n",
      "    \n",
      "    \n",
      "    See Also\n",
      "    --------\n",
      "    save : Save an array to a binary file in NumPy ``.npy`` format\n",
      "    savez : Save several arrays into an uncompressed ``.npz`` archive\n",
      "    savez_compressed : Save several arrays into a compressed ``.npz`` archive\n",
      "    \n",
      "    Notes\n",
      "    -----\n",
      "    Further explanation of the `fmt` parameter\n",
      "    (``%[flag]width[.precision]specifier``):\n",
      "    \n",
      "    flags:\n",
      "        ``-`` : left justify\n",
      "    \n",
      "        ``+`` : Forces to precede result with + or -.\n",
      "    \n",
      "        ``0`` : Left pad the number with zeros instead of space (see width).\n",
      "    \n",
      "    width:\n",
      "        Minimum number of characters to be printed. The value is not truncated\n",
      "        if it has more characters.\n",
      "    \n",
      "    precision:\n",
      "        - For integer specifiers (eg. ``d,i,o,x``), the minimum number of\n",
      "          digits.\n",
      "        - For ``e, E`` and ``f`` specifiers, the number of digits to print\n",
      "          after the decimal point.\n",
      "        - For ``g`` and ``G``, the maximum number of significant digits.\n",
      "        - For ``s``, the maximum number of characters.\n",
      "    \n",
      "    specifiers:\n",
      "        ``c`` : character\n",
      "    \n",
      "        ``d`` or ``i`` : signed decimal integer\n",
      "    \n",
      "        ``e`` or ``E`` : scientific notation with ``e`` or ``E``.\n",
      "    \n",
      "        ``f`` : decimal floating point\n",
      "    \n",
      "        ``g,G`` : use the shorter of ``e,E`` or ``f``\n",
      "    \n",
      "        ``o`` : signed octal\n",
      "    \n",
      "        ``s`` : string of characters\n",
      "    \n",
      "        ``u`` : unsigned decimal integer\n",
      "    \n",
      "        ``x,X`` : unsigned hexadecimal integer\n",
      "    \n",
      "    This explanation of ``fmt`` is not complete, for an exhaustive\n",
      "    specification see [1]_.\n",
      "    \n",
      "    References\n",
      "    ----------\n",
      "    .. [1] `Format Specification Mini-Language\n",
      "           <https://docs.python.org/library/string.html#format-specification-mini-language>`_,\n",
      "           Python Documentation.\n",
      "    \n",
      "    Examples\n",
      "    --------\n",
      "    >>> x = y = z = np.arange(0.0,5.0,1.0)\n",
      "    >>> np.savetxt('test.out', x, delimiter=',')   # X is an array\n",
      "    >>> np.savetxt('test.out', (x,y,z))   # x,y,z equal sized 1D arrays\n",
      "    >>> np.savetxt('test.out', x, fmt='%1.4e')   # use exponential notation\n",
      "\n"
     ]
    }
   ],
   "source": [
    "help(np.savetxt)"
   ]
  },
  {
   "cell_type": "code",
   "execution_count": 8,
   "id": "3d7de10b",
   "metadata": {},
   "outputs": [
    {
     "name": "stdout",
     "output_type": "stream",
     "text": [
      "Original array:\n",
      "[[1. 1. 1. 1. 1.]\n",
      " [1. 1. 1. 1. 1.]\n",
      " [1. 1. 1. 1. 1.]\n",
      " [1. 1. 1. 1. 1.]\n",
      " [1. 1. 1. 1. 1.]]\n",
      "1 on the border and 0 inside in the array\n",
      "[[1. 1. 1. 1. 1.]\n",
      " [1. 0. 0. 0. 1.]\n",
      " [1. 0. 0. 0. 1.]\n",
      " [1. 0. 0. 0. 1.]\n",
      " [1. 1. 1. 1. 1.]]\n"
     ]
    }
   ],
   "source": [
    "import numpy as np\n",
    "x = np.ones((5,5))\n",
    "print(\"Original array:\")\n",
    "print(x)\n",
    "print(\"1 on the border and 0 inside in the array\")\n",
    "x[1:-1,1:-1] = 0\n",
    "print(x)\n"
   ]
  },
  {
   "cell_type": "code",
   "execution_count": 22,
   "id": "07eae44c",
   "metadata": {},
   "outputs": [
    {
     "name": "stdout",
     "output_type": "stream",
     "text": [
      "125.0\n"
     ]
    }
   ],
   "source": [
    "bag_of_rice = 1.25\n",
    "profit = 0.20\n",
    "bags_sold = 500\n",
    "\n",
    "max_profit = bag_of_rice * profit * bags_sold\n",
    "\n",
    "print(max_profit)"
   ]
  },
  {
   "cell_type": "code",
   "execution_count": 52,
   "id": "3f5dd836",
   "metadata": {},
   "outputs": [
    {
     "name": "stdout",
     "output_type": "stream",
     "text": [
      "720\n"
     ]
    }
   ],
   "source": [
    "result = 1\n",
    "for i in range(1,7):\n",
    "    result = result * i\n",
    "print(result)"
   ]
  },
  {
   "cell_type": "code",
   "execution_count": 48,
   "id": "850ec1b7",
   "metadata": {},
   "outputs": [],
   "source": [
    "items = []\n",
    "for i in range(1,51):\n",
    "    items.append(i)"
   ]
  },
  {
   "cell_type": "code",
   "execution_count": 51,
   "id": "f2ee4e7e",
   "metadata": {},
   "outputs": [
    {
     "name": "stdout",
     "output_type": "stream",
     "text": [
      "[50, 49, 48, 47, 46, 45, 44, 43, 42, 41, 40, 39, 38, 37, 36, 35, 34, 33, 32, 31, 30, 29, 28, 27, 26, 25, 24, 23, 22, 21, 20, 19, 18, 17, 16, 15, 14, 13, 12, 11, 10, 9, 8, 7, 6, 5, 4, 3, 2, 1]\n"
     ]
    }
   ],
   "source": [
    "print(sorted(items,reverse = True))"
   ]
  },
  {
   "cell_type": "code",
   "execution_count": 29,
   "id": "721be76c",
   "metadata": {},
   "outputs": [],
   "source": [
    "skills = [\"java\",\"python\",\"flutter\",\"reactjs\",\"javascript\",\"nodejs\"]"
   ]
  },
  {
   "cell_type": "code",
   "execution_count": 31,
   "id": "c1dbc408",
   "metadata": {},
   "outputs": [],
   "source": [
    "frameworks = [\"springboot\",\"material-ui\",\"nextjs\",\"expressjs\"]"
   ]
  },
  {
   "cell_type": "code",
   "execution_count": 34,
   "id": "1b0b7626",
   "metadata": {},
   "outputs": [],
   "source": [
    "skills.extend(frameworks)"
   ]
  },
  {
   "cell_type": "code",
   "execution_count": 36,
   "id": "d6127a22",
   "metadata": {},
   "outputs": [
    {
     "data": {
      "text/plain": [
       "['springboot', 'material-ui', 'nextjs', 'expressjs']"
      ]
     },
     "execution_count": 36,
     "metadata": {},
     "output_type": "execute_result"
    }
   ],
   "source": [
    "skills.pop(6)"
   ]
  },
  {
   "cell_type": "code",
   "execution_count": 42,
   "id": "de01bb8d",
   "metadata": {},
   "outputs": [
    {
     "data": {
      "text/plain": [
       "['springboot',\n",
       " 'reactjs',\n",
       " 'python',\n",
       " 'nodejs',\n",
       " 'nextjs',\n",
       " 'material-ui',\n",
       " 'javascript',\n",
       " 'java',\n",
       " 'flutter',\n",
       " 'expressjs']"
      ]
     },
     "execution_count": 42,
     "metadata": {},
     "output_type": "execute_result"
    }
   ],
   "source": [
    "sorted(skills,reverse=True)"
   ]
  },
  {
   "cell_type": "code",
   "execution_count": 44,
   "id": "701c7680",
   "metadata": {},
   "outputs": [
    {
     "data": {
      "text/plain": [
       "['expressjs',\n",
       " 'flutter',\n",
       " 'java',\n",
       " 'javascript',\n",
       " 'material-ui',\n",
       " 'nextjs',\n",
       " 'nodejs',\n",
       " 'python',\n",
       " 'reactjs',\n",
       " 'springboot']"
      ]
     },
     "execution_count": 44,
     "metadata": {},
     "output_type": "execute_result"
    }
   ],
   "source": [
    "skills"
   ]
  },
  {
   "cell_type": "code",
   "execution_count": 69,
   "id": "44061ea2",
   "metadata": {},
   "outputs": [],
   "source": [
    "def calculate_loan(hse_price,initial_amount, interest_rate,number_of_years, compounds_per_year):\n",
    "    hse_price = hse_price - initial_amount\n",
    "    ### P(1 + r/n)^(nt)\n",
    "    number_of_years = number_of_years *  compounds_per_year \n",
    "    result = hse_price * math.pow(1 + (interest_rate / 12),number_of_years)\n",
    "    return result\n",
    "    "
   ]
  },
  {
   "cell_type": "code",
   "execution_count": 73,
   "id": "063d7d1b",
   "metadata": {},
   "outputs": [
    {
     "name": "stdout",
     "output_type": "stream",
     "text": [
      "2129448.6057964335\n"
     ]
    }
   ],
   "source": [
    "result = calculate_loan(1260000,300000,0.1,8,12)\n",
    "print(result)"
   ]
  },
  {
   "cell_type": "code",
   "execution_count": 74,
   "id": "ea3b0ef8",
   "metadata": {},
   "outputs": [
    {
     "name": "stdout",
     "output_type": "stream",
     "text": [
      "2796746.695526336\n"
     ]
    }
   ],
   "source": [
    "result = calculate_loan(1260000,0,0.08,10,12)\n",
    "print(result)"
   ]
  },
  {
   "cell_type": "code",
   "execution_count": 90,
   "id": "e925c0b7",
   "metadata": {},
   "outputs": [],
   "source": [
    "age = 19.45678"
   ]
  },
  {
   "cell_type": "code",
   "execution_count": 91,
   "id": "389ecffd",
   "metadata": {},
   "outputs": [
    {
     "name": "stdout",
     "output_type": "stream",
     "text": [
      "19.45678\n"
     ]
    }
   ],
   "source": [
    " if 18 <= age < 60:\n",
    "    print(age)"
   ]
  },
  {
   "cell_type": "code",
   "execution_count": 97,
   "id": "addedfa0",
   "metadata": {},
   "outputs": [
    {
     "name": "stdout",
     "output_type": "stream",
     "text": [
      "19.46\n",
      "19.46\n",
      "19.46\n"
     ]
    }
   ],
   "source": [
    "print(\"{:.2f}\".format(age))\n",
    "print(\"{:.2f}\".format(age))\n",
    "print(f\"{age:.2f}\")"
   ]
  },
  {
   "cell_type": "code",
   "execution_count": 104,
   "id": "70a40c62",
   "metadata": {},
   "outputs": [
    {
     "ename": "SyntaxError",
     "evalue": "invalid syntax (1996288269.py, line 6)",
     "output_type": "error",
     "traceback": [
      "\u001B[1;36m  Cell \u001B[1;32mIn[104], line 6\u001B[1;36m\u001B[0m\n\u001B[1;33m    if a==b \"EQUAL\" if a>b else \"A is greater\" else \"B is greater\"\u001B[0m\n\u001B[1;37m            ^\u001B[0m\n\u001B[1;31mSyntaxError\u001B[0m\u001B[1;31m:\u001B[0m invalid syntax\n"
     ]
    }
   ],
   "source": [
    "a = 20\n",
    "b = 30\n",
    "result = \"A is greater\" if a>b else \"EQUAL\" if a==b else \"B is greater\"\n",
    "result = \"EQUAL\" if a==b else \"A is greater\" if a>b else \"B is greater\"\n",
    "result\n",
    "if a==b \"EQUAL\" if a>b else \"A is greater\" else \"B is greater\" "
   ]
  },
  {
   "cell_type": "code",
   "execution_count": 85,
   "id": "5595ccbb",
   "metadata": {},
   "outputs": [
    {
     "data": {
      "text/plain": [
       "True"
      ]
     },
     "execution_count": 85,
     "metadata": {},
     "output_type": "execute_result"
    }
   ],
   "source": [
    "\"michigan\" < \"oxford\" < \"stanford\""
   ]
  },
  {
   "cell_type": "code",
   "execution_count": 89,
   "id": "c035fbd0",
   "metadata": {},
   "outputs": [
    {
     "data": {
      "text/plain": [
       "0"
      ]
     },
     "execution_count": 89,
     "metadata": {},
     "output_type": "execute_result"
    }
   ],
   "source": [
    "True * False"
   ]
  },
  {
   "cell_type": "code",
   "execution_count": 87,
   "id": "111053e2",
   "metadata": {},
   "outputs": [
    {
     "data": {
      "text/plain": [
       "1"
      ]
     },
     "execution_count": 87,
     "metadata": {},
     "output_type": "execute_result"
    }
   ],
   "source": [
    "True * True"
   ]
  },
  {
   "cell_type": "code",
   "execution_count": 88,
   "id": "77a43633",
   "metadata": {},
   "outputs": [
    {
     "data": {
      "text/plain": [
       "0"
      ]
     },
     "execution_count": 88,
     "metadata": {},
     "output_type": "execute_result"
    }
   ],
   "source": [
    "True - True"
   ]
  },
  {
   "cell_type": "code",
   "execution_count": 105,
   "id": "ac7bbd5f",
   "metadata": {},
   "outputs": [
    {
     "data": {
      "text/plain": [
       "True"
      ]
     },
     "execution_count": 105,
     "metadata": {},
     "output_type": "execute_result"
    }
   ],
   "source": [
    "True or False and False\n"
   ]
  },
  {
   "cell_type": "code",
   "execution_count": 106,
   "id": "0a4a7d64",
   "metadata": {},
   "outputs": [
    {
     "data": {
      "text/plain": [
       "False"
      ]
     },
     "execution_count": 106,
     "metadata": {},
     "output_type": "execute_result"
    }
   ],
   "source": [
    "False and False"
   ]
  },
  {
   "cell_type": "code",
   "execution_count": null,
   "id": "271caf35",
   "metadata": {},
   "outputs": [],
   "source": []
  }
 ],
 "metadata": {
  "kernelspec": {
   "display_name": "Python 3 (ipykernel)",
   "language": "python",
   "name": "python3"
  },
  "language_info": {
   "codemirror_mode": {
    "name": "ipython",
    "version": 3
   },
   "file_extension": ".py",
   "mimetype": "text/x-python",
   "name": "python",
   "nbconvert_exporter": "python",
   "pygments_lexer": "ipython3",
   "version": "3.10.9"
  }
 },
 "nbformat": 4,
 "nbformat_minor": 5
}
